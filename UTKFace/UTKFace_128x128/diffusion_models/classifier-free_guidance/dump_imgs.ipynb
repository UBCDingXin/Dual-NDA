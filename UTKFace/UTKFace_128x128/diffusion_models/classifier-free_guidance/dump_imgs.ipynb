{
 "cells": [
  {
   "cell_type": "code",
   "execution_count": 1,
   "metadata": {},
   "outputs": [],
   "source": [
    "import numpy as np\n",
    "import h5py\n",
    "from PIL import Image\n",
    "import os\n",
    "from tqdm import tqdm, trange"
   ]
  },
  {
   "cell_type": "code",
   "execution_count": 2,
   "metadata": {},
   "outputs": [],
   "source": [
    "fake_data_path=r\"C:\\BaiduSyncdisk\\Baidu_WD\\CCGM\\CcGAN_with_NDA\\UTKFace\\UTKFace_128x128\\diffusion_models\\classifier-free_guidance\\output\\exp_Setup1\\results\\fake_data_niters100000_nfake60000_sampstep100\"\n",
    "dump_fake_path=\"F:/LocalWD/CcGAN_TPAMI_NIQE/UTKFace/NIQE_128x128/fake_data/fake_images\"\n",
    "filenames_all = os.listdir(fake_data_path)\n",
    "n_all = len(filenames_all)"
   ]
  },
  {
   "cell_type": "code",
   "execution_count": 3,
   "metadata": {},
   "outputs": [
    {
     "name": "stderr",
     "output_type": "stream",
     "text": [
      "100%|██████████| 2000/2000 [00:33<00:00, 59.17it/s]\n"
     ]
    }
   ],
   "source": [
    "\n",
    "fake_images = []\n",
    "fake_labels = []\n",
    "for i in trange(n_all):\n",
    "    filename_i = os.path.join(fake_data_path, filenames_all[i])\n",
    "    with h5py.File(filename_i, \"r\") as f:\n",
    "        fake_images_i = f['fake_images_i'][:]\n",
    "        fake_labels_i = f['fake_labels_i'][:]\n",
    "    fake_images.append(fake_images_i)\n",
    "    fake_labels.append(fake_labels_i)\n",
    "fake_images = np.concatenate(fake_images, axis=0)\n",
    "fake_labels = np.concatenate(fake_labels)\n"
   ]
  },
  {
   "cell_type": "code",
   "execution_count": 4,
   "metadata": {},
   "outputs": [
    {
     "name": "stdout",
     "output_type": "stream",
     "text": [
      "\n",
      " Dumping fake images for NIQE...\n"
     ]
    },
    {
     "name": "stderr",
     "output_type": "stream",
     "text": [
      " 90%|█████████ | 90204/100000 [08:18<00:38, 254.21it/s]"
     ]
    }
   ],
   "source": [
    "print(\"\\n Dumping fake images for NIQE...\")\n",
    "os.makedirs(dump_fake_path, exist_ok=True)\n",
    "for i in tqdm(range(len(fake_images))):\n",
    "    label_i = fake_labels[i]\n",
    "    filename_i = dump_fake_path + \"/{}_{}.png\".format(i, label_i)\n",
    "    os.makedirs(os.path.dirname(filename_i), exist_ok=True)\n",
    "    image_i = fake_images[i]\n",
    "    image_i_pil = Image.fromarray(image_i.transpose(1,2,0))\n",
    "    image_i_pil.save(filename_i)\n",
    "#end for i"
   ]
  },
  {
   "cell_type": "code",
   "execution_count": null,
   "metadata": {},
   "outputs": [],
   "source": []
  }
 ],
 "metadata": {
  "kernelspec": {
   "display_name": "Python 3",
   "language": "python",
   "name": "python3"
  },
  "language_info": {
   "codemirror_mode": {
    "name": "ipython",
    "version": 3
   },
   "file_extension": ".py",
   "mimetype": "text/x-python",
   "name": "python",
   "nbconvert_exporter": "python",
   "pygments_lexer": "ipython3",
   "version": "3.11.3"
  },
  "orig_nbformat": 4
 },
 "nbformat": 4,
 "nbformat_minor": 2
}
